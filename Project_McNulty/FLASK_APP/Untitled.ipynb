{
 "cells": [
  {
   "cell_type": "code",
   "execution_count": 1,
   "metadata": {},
   "outputs": [],
   "source": [
    "import numpy as np\n",
    "import pandas as pd\n",
    "from flask import Flask, abort, jsonify, request\n",
    "import pickle\n",
    "from prakash_helper import convert_json_DF,raw_final_DF\n",
    "from sklearn.ensemble import GradientBoostingClassifier\n",
    "\n",
    "\n",
    "with open('final_model.pkl', 'rb') as f:\n",
    "        classifier = pickle.load(f)\n",
    "DF_default = pd.read_pickle('Default_DF.pkl')"
   ]
  },
  {
   "cell_type": "code",
   "execution_count": 4,
   "metadata": {},
   "outputs": [
    {
     "name": "stdout",
     "output_type": "stream",
     "text": [
      "Final_model.pkl    \u001b[34m__pycache__\u001b[m\u001b[m/       default_DF.pkl\r\n",
      "Untitled.ipynb     app.py             prakash_helper.py\r\n"
     ]
    }
   ],
   "source": [
    "%ls "
   ]
  },
  {
   "cell_type": "code",
   "execution_count": 5,
   "metadata": {},
   "outputs": [],
   "source": [
    "pv=pd.read_csv('../prakash.csv')\n",
    "ll=pv.to_json(orient='records')"
   ]
  },
  {
   "cell_type": "code",
   "execution_count": 21,
   "metadata": {},
   "outputs": [
    {
     "data": {
      "text/html": [
       "<div>\n",
       "<style scoped>\n",
       "    .dataframe tbody tr th:only-of-type {\n",
       "        vertical-align: middle;\n",
       "    }\n",
       "\n",
       "    .dataframe tbody tr th {\n",
       "        vertical-align: top;\n",
       "    }\n",
       "\n",
       "    .dataframe thead th {\n",
       "        text-align: right;\n",
       "    }\n",
       "</style>\n",
       "<table border=\"1\" class=\"dataframe\">\n",
       "  <thead>\n",
       "    <tr style=\"text-align: right;\">\n",
       "      <th></th>\n",
       "      <th>goal</th>\n",
       "      <th>country</th>\n",
       "      <th>staff_pick</th>\n",
       "      <th>backers_count</th>\n",
       "      <th>usd_pledged</th>\n",
       "      <th>category</th>\n",
       "      <th>name_len_clean</th>\n",
       "      <th>blurb_len_clean</th>\n",
       "      <th>deadline_weekday</th>\n",
       "      <th>created_at_weekday</th>\n",
       "      <th>launched_at_weekday</th>\n",
       "      <th>create_to_launch_days</th>\n",
       "      <th>launch_to_deadline_days</th>\n",
       "      <th>LaunchedTuesday</th>\n",
       "      <th>DeadlineWeekend</th>\n",
       "    </tr>\n",
       "  </thead>\n",
       "  <tbody>\n",
       "    <tr>\n",
       "      <th>0</th>\n",
       "      <td>1500</td>\n",
       "      <td>US</td>\n",
       "      <td>False</td>\n",
       "      <td>0</td>\n",
       "      <td>0</td>\n",
       "      <td>Academic</td>\n",
       "      <td>9</td>\n",
       "      <td>16</td>\n",
       "      <td>Friday</td>\n",
       "      <td>Saturday</td>\n",
       "      <td>Wednesday</td>\n",
       "      <td>17</td>\n",
       "      <td>36</td>\n",
       "      <td>0</td>\n",
       "      <td>0</td>\n",
       "    </tr>\n",
       "  </tbody>\n",
       "</table>\n",
       "</div>"
      ],
      "text/plain": [
       "   goal country  staff_pick  backers_count  usd_pledged  category  \\\n",
       "0  1500      US       False              0            0  Academic   \n",
       "\n",
       "   name_len_clean  blurb_len_clean deadline_weekday created_at_weekday  \\\n",
       "0               9               16           Friday           Saturday   \n",
       "\n",
       "  launched_at_weekday  create_to_launch_days  launch_to_deadline_days  \\\n",
       "0           Wednesday                     17                       36   \n",
       "\n",
       "   LaunchedTuesday  DeadlineWeekend  \n",
       "0                0                0  "
      ]
     },
     "execution_count": 21,
     "metadata": {},
     "output_type": "execute_result"
    }
   ],
   "source": [
    "pv"
   ]
  },
  {
   "cell_type": "code",
   "execution_count": 23,
   "metadata": {},
   "outputs": [
    {
     "data": {
      "text/plain": [
       "'[{\"goal\":1500,\"country\":\"US\",\"staff_pick\":false,\"backers_count\":0,\"usd_pledged\":0,\"category\":\"Academic\",\"name_len_clean\":9,\"blurb_len_clean\":16,\"deadline_weekday\":\"Friday\",\"created_at_weekday\":\"Saturday\",\"launched_at_weekday\":\"Wednesday\",\"create_to_launch_days\":17,\"launch_to_deadline_days\":36,\"LaunchedTuesday\":0,\"DeadlineWeekend\":0}]'"
      ]
     },
     "execution_count": 23,
     "metadata": {},
     "output_type": "execute_result"
    }
   ],
   "source": [
    "ll"
   ]
  },
  {
   "cell_type": "code",
   "execution_count": 10,
   "metadata": {},
   "outputs": [],
   "source": [
    "def prepare_data(df):\n",
    "    import numpy as np\n",
    "    from sklearn.preprocessing import FunctionTransformer\n",
    "    sc = FunctionTransformer(np.log1p)\n",
    "    X=df[['goal']]\n",
    "    X= sc.transform(X)\n",
    "    df[['goal']]=X\n",
    "    df = pd.get_dummies(df, columns=['country'])\n",
    "    df = pd.get_dummies(df, columns=['category'])\n",
    "    df = pd.get_dummies(df, columns=['deadline_weekday'])\n",
    "    df = pd.get_dummies(df, columns=['created_at_weekday'])\n",
    "    df = pd.get_dummies(df, columns=['launched_at_weekday'])\n",
    "    return df"
   ]
  },
  {
   "cell_type": "code",
   "execution_count": 24,
   "metadata": {},
   "outputs": [],
   "source": [
    "data=prepare_data(gg)"
   ]
  },
  {
   "cell_type": "code",
   "execution_count": 25,
   "metadata": {},
   "outputs": [
    {
     "data": {
      "text/html": [
       "<div>\n",
       "<style scoped>\n",
       "    .dataframe tbody tr th:only-of-type {\n",
       "        vertical-align: middle;\n",
       "    }\n",
       "\n",
       "    .dataframe tbody tr th {\n",
       "        vertical-align: top;\n",
       "    }\n",
       "\n",
       "    .dataframe thead th {\n",
       "        text-align: right;\n",
       "    }\n",
       "</style>\n",
       "<table border=\"1\" class=\"dataframe\">\n",
       "  <thead>\n",
       "    <tr style=\"text-align: right;\">\n",
       "      <th></th>\n",
       "      <th>DeadlineWeekend</th>\n",
       "      <th>LaunchedTuesday</th>\n",
       "      <th>backers_count</th>\n",
       "      <th>blurb_len_clean</th>\n",
       "      <th>create_to_launch_days</th>\n",
       "      <th>goal</th>\n",
       "      <th>launch_to_deadline_days</th>\n",
       "      <th>name_len_clean</th>\n",
       "      <th>staff_pick</th>\n",
       "      <th>usd_pledged</th>\n",
       "      <th>country_US</th>\n",
       "      <th>category_Academic</th>\n",
       "      <th>deadline_weekday_Friday</th>\n",
       "      <th>created_at_weekday_Saturday</th>\n",
       "      <th>launched_at_weekday_Wednesday</th>\n",
       "    </tr>\n",
       "  </thead>\n",
       "  <tbody>\n",
       "    <tr>\n",
       "      <th>0</th>\n",
       "      <td>0</td>\n",
       "      <td>0</td>\n",
       "      <td>0</td>\n",
       "      <td>16</td>\n",
       "      <td>17</td>\n",
       "      <td>1.137168</td>\n",
       "      <td>36</td>\n",
       "      <td>9</td>\n",
       "      <td>False</td>\n",
       "      <td>0</td>\n",
       "      <td>1</td>\n",
       "      <td>1</td>\n",
       "      <td>1</td>\n",
       "      <td>1</td>\n",
       "      <td>1</td>\n",
       "    </tr>\n",
       "  </tbody>\n",
       "</table>\n",
       "</div>"
      ],
      "text/plain": [
       "   DeadlineWeekend  LaunchedTuesday  backers_count  blurb_len_clean  \\\n",
       "0                0                0              0               16   \n",
       "\n",
       "   create_to_launch_days      goal  launch_to_deadline_days  name_len_clean  \\\n",
       "0                     17  1.137168                       36               9   \n",
       "\n",
       "   staff_pick  usd_pledged  country_US  category_Academic  \\\n",
       "0       False            0           1                  1   \n",
       "\n",
       "   deadline_weekday_Friday  created_at_weekday_Saturday  \\\n",
       "0                        1                            1   \n",
       "\n",
       "   launched_at_weekday_Wednesday  \n",
       "0                              1  "
      ]
     },
     "execution_count": 25,
     "metadata": {},
     "output_type": "execute_result"
    }
   ],
   "source": [
    "data"
   ]
  },
  {
   "cell_type": "code",
   "execution_count": 26,
   "metadata": {},
   "outputs": [],
   "source": [
    "DF_default.update(data)"
   ]
  },
  {
   "cell_type": "code",
   "execution_count": 27,
   "metadata": {},
   "outputs": [],
   "source": [
    "DF_default[\"staff_pick\"]=DF_default[\"staff_pick\"].astype(int)"
   ]
  },
  {
   "cell_type": "code",
   "execution_count": 28,
   "metadata": {},
   "outputs": [],
   "source": [
    "def do_the_computation():\n",
    "    classifier,DF_default=load_pickle_file()\n",
    "    # Assume that user has used to script to convert csv to json file and data.json file exist.\n",
    "    X_test_raw = convert_json_DF('data.json')\n",
    "    X_test = raw_final_DF(X_test_raw,DF_default)\n",
    "    predict_me = classifier.predict(X_test)\n",
    "    #print ('% Probability of sucess',100*classifier.predict_proba(X_test)[0][1])\n",
    "    output = ('% Probability of sucess {}'.format(100*classifier.predict_proba(X_test)[0][1]))\n",
    "    return output"
   ]
  },
  {
   "cell_type": "code",
   "execution_count": 35,
   "metadata": {},
   "outputs": [
    {
     "data": {
      "text/plain": [
       "array([0])"
      ]
     },
     "execution_count": 35,
     "metadata": {},
     "output_type": "execute_result"
    }
   ],
   "source": [
    "classifier.predict(DF_default)"
   ]
  },
  {
   "cell_type": "code",
   "execution_count": 36,
   "metadata": {},
   "outputs": [
    {
     "data": {
      "text/html": [
       "<div>\n",
       "<style scoped>\n",
       "    .dataframe tbody tr th:only-of-type {\n",
       "        vertical-align: middle;\n",
       "    }\n",
       "\n",
       "    .dataframe tbody tr th {\n",
       "        vertical-align: top;\n",
       "    }\n",
       "\n",
       "    .dataframe thead th {\n",
       "        text-align: right;\n",
       "    }\n",
       "</style>\n",
       "<table border=\"1\" class=\"dataframe\">\n",
       "  <thead>\n",
       "    <tr style=\"text-align: right;\">\n",
       "      <th></th>\n",
       "      <th>goal</th>\n",
       "      <th>staff_pick</th>\n",
       "      <th>backers_count</th>\n",
       "      <th>name_len_clean</th>\n",
       "      <th>blurb_len_clean</th>\n",
       "      <th>create_to_launch_days</th>\n",
       "      <th>launch_to_deadline_days</th>\n",
       "      <th>LaunchedTuesday</th>\n",
       "      <th>DeadlineWeekend</th>\n",
       "      <th>country_AT</th>\n",
       "      <th>...</th>\n",
       "      <th>created_at_weekday_Thursday</th>\n",
       "      <th>created_at_weekday_Tuesday</th>\n",
       "      <th>created_at_weekday_Wednesday</th>\n",
       "      <th>launched_at_weekday_Friday</th>\n",
       "      <th>launched_at_weekday_Monday</th>\n",
       "      <th>launched_at_weekday_Saturday</th>\n",
       "      <th>launched_at_weekday_Sunday</th>\n",
       "      <th>launched_at_weekday_Thursday</th>\n",
       "      <th>launched_at_weekday_Tuesday</th>\n",
       "      <th>launched_at_weekday_Wednesday</th>\n",
       "    </tr>\n",
       "  </thead>\n",
       "  <tbody>\n",
       "    <tr>\n",
       "      <th>0</th>\n",
       "      <td>1.137168</td>\n",
       "      <td>0</td>\n",
       "      <td>0.0</td>\n",
       "      <td>9.0</td>\n",
       "      <td>16.0</td>\n",
       "      <td>17.0</td>\n",
       "      <td>36.0</td>\n",
       "      <td>0.0</td>\n",
       "      <td>0.0</td>\n",
       "      <td>0.0</td>\n",
       "      <td>...</td>\n",
       "      <td>0.0</td>\n",
       "      <td>0.0</td>\n",
       "      <td>0.0</td>\n",
       "      <td>0.0</td>\n",
       "      <td>0.0</td>\n",
       "      <td>0.0</td>\n",
       "      <td>0.0</td>\n",
       "      <td>0.0</td>\n",
       "      <td>0.0</td>\n",
       "      <td>1.0</td>\n",
       "    </tr>\n",
       "  </tbody>\n",
       "</table>\n",
       "<p>1 rows × 74 columns</p>\n",
       "</div>"
      ],
      "text/plain": [
       "       goal  staff_pick  backers_count  name_len_clean  blurb_len_clean  \\\n",
       "0  1.137168           0            0.0             9.0             16.0   \n",
       "\n",
       "   create_to_launch_days  launch_to_deadline_days  LaunchedTuesday  \\\n",
       "0                   17.0                     36.0              0.0   \n",
       "\n",
       "   DeadlineWeekend  country_AT              ...                \\\n",
       "0              0.0         0.0              ...                 \n",
       "\n",
       "   created_at_weekday_Thursday  created_at_weekday_Tuesday  \\\n",
       "0                          0.0                         0.0   \n",
       "\n",
       "   created_at_weekday_Wednesday  launched_at_weekday_Friday  \\\n",
       "0                           0.0                         0.0   \n",
       "\n",
       "   launched_at_weekday_Monday  launched_at_weekday_Saturday  \\\n",
       "0                         0.0                           0.0   \n",
       "\n",
       "   launched_at_weekday_Sunday  launched_at_weekday_Thursday  \\\n",
       "0                         0.0                           0.0   \n",
       "\n",
       "   launched_at_weekday_Tuesday  launched_at_weekday_Wednesday  \n",
       "0                          0.0                            1.0  \n",
       "\n",
       "[1 rows x 74 columns]"
      ]
     },
     "execution_count": 36,
     "metadata": {},
     "output_type": "execute_result"
    }
   ],
   "source": [
    "DF_default"
   ]
  },
  {
   "cell_type": "code",
   "execution_count": 37,
   "metadata": {},
   "outputs": [],
   "source": [
    "output = ('% Probability of sucess {}'.format(100*classifier.predict_proba(DF_default)[0][1]))"
   ]
  },
  {
   "cell_type": "code",
   "execution_count": 38,
   "metadata": {},
   "outputs": [
    {
     "name": "stdout",
     "output_type": "stream",
     "text": [
      "% Probability of sucess 7.931023586284401\n"
     ]
    }
   ],
   "source": [
    "print(output)"
   ]
  },
  {
   "cell_type": "code",
   "execution_count": null,
   "metadata": {},
   "outputs": [],
   "source": []
  },
  {
   "cell_type": "code",
   "execution_count": null,
   "metadata": {},
   "outputs": [],
   "source": []
  }
 ],
 "metadata": {
  "kernelspec": {
   "display_name": "Python [conda root]",
   "language": "python",
   "name": "conda-root-py"
  },
  "language_info": {
   "codemirror_mode": {
    "name": "ipython",
    "version": 3
   },
   "file_extension": ".py",
   "mimetype": "text/x-python",
   "name": "python",
   "nbconvert_exporter": "python",
   "pygments_lexer": "ipython3",
   "version": "3.6.4"
  }
 },
 "nbformat": 4,
 "nbformat_minor": 2
}
